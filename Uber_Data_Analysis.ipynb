{
 "cells": [
  {
   "cell_type": "code",
   "execution_count": 37,
   "id": "b22343be",
   "metadata": {},
   "outputs": [],
   "source": [
    "from snowflake.snowpark import Session\n",
    "from snowflake.snowpark import DataFrame\n",
    "from snowflake.snowpark.functions import as_time, as_date, to_date, to_time"
   ]
  },
  {
   "cell_type": "code",
   "execution_count": 3,
   "id": "cca358cb",
   "metadata": {},
   "outputs": [],
   "source": [
    "from snowflake.snowpark.types import IntegerType,\\\n",
    "StringType,\\\n",
    "StructType,\\\n",
    "StructField,\\\n",
    "FloatType,\\\n",
    "DateType,\\\n",
    "TimestampType"
   ]
  },
  {
   "cell_type": "code",
   "execution_count": 4,
   "id": "dfd4a113",
   "metadata": {},
   "outputs": [],
   "source": [
    "import pandas as pd"
   ]
  },
  {
   "cell_type": "code",
   "execution_count": 5,
   "id": "580d35f1",
   "metadata": {},
   "outputs": [],
   "source": [
    "connection_parameters = {\n",
    "    \"account\":\"######.us-east-2.aws\",\n",
    "    \"user\": \"#####\",\n",
    "    \"password\": \"#####\",\n",
    "    \"role\" : \"ACCOUNTADMIN\",\n",
    "    \"database\": \"uber_data\"\n",
    "}"
   ]
  },
  {
   "cell_type": "code",
   "execution_count": 6,
   "id": "54e5c002",
   "metadata": {},
   "outputs": [],
   "source": [
    "session = Session.builder.configs(connection_parameters).create()"
   ]
  },
  {
   "cell_type": "code",
   "execution_count": 7,
   "id": "10c29165",
   "metadata": {
    "scrolled": true
   },
   "outputs": [
    {
     "name": "stdout",
     "output_type": "stream",
     "text": [
      "------------------------------------\n",
      "|\"status\"                          |\n",
      "------------------------------------\n",
      "|Statement executed successfully.  |\n",
      "------------------------------------\n",
      "\n"
     ]
    }
   ],
   "source": [
    "session.sql(\"use uber_data;\").show()"
   ]
  },
  {
   "cell_type": "code",
   "execution_count": 7,
   "id": "1ab2e1b5",
   "metadata": {},
   "outputs": [
    {
     "name": "stdout",
     "output_type": "stream",
     "text": [
      "------------------------------------------------\n",
      "|\"status\"                                      |\n",
      "------------------------------------------------\n",
      "|File format CSV_FORMAT successfully created.  |\n",
      "------------------------------------------------\n",
      "\n"
     ]
    }
   ],
   "source": [
    "session.sql('''create or replace\n",
    "            file format csv_format\n",
    "            type = 'csv'\n",
    "            field_delimiter = '|'\n",
    "            skip_header = 1;\n",
    "            ''').show()"
   ]
  },
  {
   "cell_type": "code",
   "execution_count": 9,
   "id": "2e8c0ebe",
   "metadata": {
    "scrolled": true
   },
   "outputs": [
    {
     "name": "stdout",
     "output_type": "stream",
     "text": [
      "----------------------------------------------\n",
      "|\"status\"                                    |\n",
      "----------------------------------------------\n",
      "|Stage area CSV_STAGE successfully created.  |\n",
      "----------------------------------------------\n",
      "\n"
     ]
    }
   ],
   "source": [
    "session.sql('''create or replace stage csv_stage\n",
    "                file_format = csv_format;\n",
    "\n",
    "''').show()"
   ]
  },
  {
   "cell_type": "code",
   "execution_count": 10,
   "id": "e1943cdb",
   "metadata": {
    "scrolled": true
   },
   "outputs": [
    {
     "data": {
      "text/plain": [
       "[PutResult(source='2023_Uber_data.csv', target='2023_Uber_data.csv.gz', source_size=348446367, target_size=64091984, source_compression='NONE', target_compression='GZIP', status='UPLOADED', message='')]"
      ]
     },
     "execution_count": 10,
     "metadata": {},
     "output_type": "execute_result"
    }
   ],
   "source": [
    "session.file.put(\"file://E:/GritFeat/SQL/Uber_data/2023_Uber_data.csv\",\"csv_stage\")"
   ]
  },
  {
   "cell_type": "code",
   "execution_count": 16,
   "id": "11ac96ca",
   "metadata": {},
   "outputs": [
    {
     "name": "stdout",
     "output_type": "stream",
     "text": [
      "-----------------------------------------------------------------------------------------------------------------\n",
      "|\"name\"                           |\"size\"    |\"md5\"                             |\"last_modified\"                |\n",
      "-----------------------------------------------------------------------------------------------------------------\n",
      "|csv_stage/2023_Uber_data.csv.gz  |64091984  |2af75b6adc5d8a96c9f33c2eff02aacd  |Sun, 21 May 2023 18:58:23 GMT  |\n",
      "-----------------------------------------------------------------------------------------------------------------\n",
      "\n"
     ]
    }
   ],
   "source": [
    "session.sql('list @csv_stage').show()"
   ]
  },
  {
   "cell_type": "code",
   "execution_count": 18,
   "id": "a9f95bba",
   "metadata": {},
   "outputs": [],
   "source": [
    "raw_schema = StructType([ StructField(\"ID\",IntegerType()),\n",
    "                        StructField(\"VendorID\", IntegerType()),\n",
    "                        StructField(\"tpep_pickup_datetime\", TimestampType()),\n",
    "                        StructField(\"tpep_dropoff_datetime\", TimestampType()),\n",
    "                        StructField(\"passenger_count\",IntegerType()),\n",
    "                        StructField(\"trip_distance\",FloatType()),\n",
    "                        StructField(\"rate_code_ID\",IntegerType()),\n",
    "                        StructField(\"store_n_forward_flag\" ,StringType()),\n",
    "                        StructField(\"PU_locationID\",IntegerType()),\n",
    "                        StructField(\"DO_locationID\" ,IntegerType()),\n",
    "                        StructField(\"paymentTypeID\",IntegerType()),\n",
    "                        StructField(\"fare_amount\",FloatType()),\n",
    "                        StructField(\"extra\",FloatType()),\n",
    "                        StructField(\"mta_tax\",FloatType()),\n",
    "                        StructField(\"tip_amount\",FloatType()),\n",
    "                        StructField(\"tolls_amount\",FloatType()),\n",
    "                        StructField(\"improvement_surcharge\",FloatType()),\n",
    "                        StructField(\"total_amount\",FloatType()),\n",
    "                        StructField(\"congestion_surcharge\",FloatType()),\n",
    "                        StructField(\"airport_fee\",FloatType())\n",
    "                        ])"
   ]
  },
  {
   "cell_type": "code",
   "execution_count": 19,
   "id": "c03013c2",
   "metadata": {
    "scrolled": false
   },
   "outputs": [],
   "source": [
    "filepath = \"@csv_stage/2023_Uber_data.csv.gz\"\n",
    "data = session.read\\\n",
    "                .schema(raw_schema)\\\n",
    "                .options({\"field_delimiter\":\",\",\n",
    "                                \"skip_header\":1,\n",
    "                                \"compression\":\"gzip\"})\\\n",
    "                    .csv(filepath)"
   ]
  },
  {
   "cell_type": "code",
   "execution_count": 182,
   "id": "808bc0fe",
   "metadata": {},
   "outputs": [
    {
     "name": "stdout",
     "output_type": "stream",
     "text": [
      "------------------------------------------------------------------------------------------------------------------------------------------------------------------------------------------------------------------------------------------------------------------------------------------------------------------------------------------------------------------------\n",
      "|\"ID\"  |\"VENDORID\"  |\"TPEP_PICKUP_DATETIME\"  |\"TPEP_DROPOFF_DATETIME\"  |\"PASSENGER_COUNT\"  |\"TRIP_DISTANCE\"  |\"RATE_CODE_ID\"  |\"STORE_N_FORWARD_FLAG\"  |\"PU_LOCATIONID\"  |\"DO_LOCATIONID\"  |\"PAYMENTTYPEID\"  |\"FARE_AMOUNT\"  |\"EXTRA\"  |\"MTA_TAX\"  |\"TIP_AMOUNT\"  |\"TOLLS_AMOUNT\"  |\"IMPROVEMENT_SURCHARGE\"  |\"TOTAL_AMOUNT\"  |\"CONGESTION_SURCHARGE\"  |\"AIRPORT_FEE\"  |\n",
      "------------------------------------------------------------------------------------------------------------------------------------------------------------------------------------------------------------------------------------------------------------------------------------------------------------------------------------------------------------------------\n",
      "|0     |2           |2023-01-01 00:32:10     |2023-01-01 00:40:36      |1                  |0.97             |1               |N                       |161              |141              |2                |9.3            |1.0      |0.5        |0.0           |0.0             |1.0                      |14.3            |2.5                     |0.0            |\n",
      "|1     |2           |2023-01-01 00:55:08     |2023-01-01 01:01:27      |1                  |1.1              |1               |N                       |43               |237              |1                |7.9            |1.0      |0.5        |4.0           |0.0             |1.0                      |16.9            |2.5                     |0.0            |\n",
      "|2     |2           |2023-01-01 00:25:04     |2023-01-01 00:37:49      |1                  |2.51             |1               |N                       |48               |238              |1                |14.9           |1.0      |0.5        |15.0          |0.0             |1.0                      |34.9            |2.5                     |0.0            |\n",
      "|3     |1           |2023-01-01 00:03:48     |2023-01-01 00:13:25      |0                  |1.9              |1               |N                       |138              |7                |1                |12.1           |7.25     |0.5        |0.0           |0.0             |1.0                      |20.85           |0.0                     |1.25           |\n",
      "|4     |2           |2023-01-01 00:10:29     |2023-01-01 00:21:19      |1                  |1.43             |1               |N                       |107              |79               |1                |11.4           |1.0      |0.5        |3.28          |0.0             |1.0                      |19.68           |2.5                     |0.0            |\n",
      "|5     |2           |2023-01-01 00:50:34     |2023-01-01 01:02:52      |1                  |1.84             |1               |N                       |161              |137              |1                |12.8           |1.0      |0.5        |10.0          |0.0             |1.0                      |27.8            |2.5                     |0.0            |\n",
      "|6     |2           |2023-01-01 00:09:22     |2023-01-01 00:19:49      |1                  |1.66             |1               |N                       |239              |143              |1                |12.1           |1.0      |0.5        |3.42          |0.0             |1.0                      |20.52           |2.5                     |0.0            |\n",
      "|7     |2           |2023-01-01 00:27:12     |2023-01-01 00:49:56      |1                  |11.7             |1               |N                       |142              |200              |1                |45.7           |1.0      |0.5        |10.74         |3.0             |1.0                      |64.44           |2.5                     |0.0            |\n",
      "|8     |2           |2023-01-01 00:21:44     |2023-01-01 00:36:40      |1                  |2.95             |1               |N                       |164              |236              |1                |17.7           |1.0      |0.5        |5.68          |0.0             |1.0                      |28.38           |2.5                     |0.0            |\n",
      "|9     |2           |2023-01-01 00:39:42     |2023-01-01 00:50:36      |1                  |3.01             |1               |N                       |141              |107              |2                |14.9           |1.0      |0.5        |0.0           |0.0             |1.0                      |19.9            |2.5                     |0.0            |\n",
      "------------------------------------------------------------------------------------------------------------------------------------------------------------------------------------------------------------------------------------------------------------------------------------------------------------------------------------------------------------------------\n",
      "\n"
     ]
    }
   ],
   "source": [
    "data.show()"
   ]
  },
  {
   "cell_type": "code",
   "execution_count": 138,
   "id": "56f11f69",
   "metadata": {},
   "outputs": [],
   "source": [
    "data.write.mode('append').save_as_table('uber_data_raw')"
   ]
  },
  {
   "cell_type": "code",
   "execution_count": 139,
   "id": "b6d5e384",
   "metadata": {},
   "outputs": [
    {
     "name": "stdout",
     "output_type": "stream",
     "text": [
      "--------------\n",
      "|\"VENDORID\"  |\n",
      "--------------\n",
      "|2           |\n",
      "|1           |\n",
      "--------------\n",
      "\n"
     ]
    }
   ],
   "source": [
    "data.select_expr(\"distinct VendorID\").show()"
   ]
  },
  {
   "cell_type": "code",
   "execution_count": 35,
   "id": "531a176f",
   "metadata": {},
   "outputs": [
    {
     "name": "stdout",
     "output_type": "stream",
     "text": [
      "------------------------------------------\n",
      "|\"status\"                                |\n",
      "------------------------------------------\n",
      "|Table VENDOR_DIM successfully created.  |\n",
      "------------------------------------------\n",
      "\n"
     ]
    }
   ],
   "source": [
    "session.sql('''\n",
    "create or replace table Vendor_DIM(\n",
    "VendorID int identity,\n",
    "FirstName varchar,\n",
    "LastName varchar,\n",
    "Contact int,\n",
    "Email varchar,\n",
    "Remarks varchar(50),\n",
    "primary key (VendorID)\n",
    ");\n",
    "''').show()"
   ]
  },
  {
   "cell_type": "code",
   "execution_count": 36,
   "id": "03a566a1",
   "metadata": {
    "scrolled": true
   },
   "outputs": [
    {
     "name": "stdout",
     "output_type": "stream",
     "text": [
      "-----------------------------\n",
      "|\"number of rows inserted\"  |\n",
      "-----------------------------\n",
      "|3                          |\n",
      "-----------------------------\n",
      "\n"
     ]
    }
   ],
   "source": [
    "session.sql('''\n",
    "insert into Vendor_DIM values\n",
    "('1','ABC','XYZ','98111111','abc@email.com','vendor1'),\n",
    "('2','PQR','XYZ','98222222','pqr@email.com','vendor2'),\n",
    "('3','UVW','XYZ','98333333','uvw@email.com','vendor3');\n",
    "''').show()"
   ]
  },
  {
   "cell_type": "code",
   "execution_count": 39,
   "id": "85a9fb9b",
   "metadata": {
    "scrolled": true
   },
   "outputs": [
    {
     "name": "stdout",
     "output_type": "stream",
     "text": [
      "-------------------------------------------\n",
      "|\"status\"                                 |\n",
      "-------------------------------------------\n",
      "|Table PAYMENT_DIM successfully created.  |\n",
      "-------------------------------------------\n",
      "\n"
     ]
    }
   ],
   "source": [
    "session.sql('''\n",
    "create or replace table  Payment_DIM(\n",
    "PaymentID int,\n",
    "PaymentType varchar,\n",
    "primary key(PaymentID)\n",
    ");\n",
    "''').show()"
   ]
  },
  {
   "cell_type": "code",
   "execution_count": 40,
   "id": "d7779b7a",
   "metadata": {},
   "outputs": [
    {
     "name": "stdout",
     "output_type": "stream",
     "text": [
      "-----------------------------\n",
      "|\"number of rows inserted\"  |\n",
      "-----------------------------\n",
      "|6                          |\n",
      "-----------------------------\n",
      "\n"
     ]
    }
   ],
   "source": [
    "session.sql('''\n",
    "insert into Payment_DIM values\n",
    "(1,'Credit card'),\n",
    "(2, 'Cash'),\n",
    "(3, 'No charge'),\n",
    "(4, 'Dispute'),\n",
    "(5, 'Unknown'),\n",
    "(6, 'Voided trip');\n",
    "''').show()"
   ]
  },
  {
   "cell_type": "code",
   "execution_count": 298,
   "id": "728ff961",
   "metadata": {
    "scrolled": false
   },
   "outputs": [
    {
     "name": "stdout",
     "output_type": "stream",
     "text": [
      "---------------------------------------------------\n",
      "|\"status\"                                         |\n",
      "---------------------------------------------------\n",
      "|Table STORE_N_FORWARD_DIM successfully created.  |\n",
      "---------------------------------------------------\n",
      "\n"
     ]
    }
   ],
   "source": [
    "session.sql('''\n",
    "create or replace table Store_n_Forward_DIM(\n",
    "FlagID int,\n",
    "Store_N_Forward_Flag char,\n",
    "Description varchar,\n",
    "primary key(FlagID)\n",
    ");\n",
    "''').show()"
   ]
  },
  {
   "cell_type": "code",
   "execution_count": 299,
   "id": "9523b369",
   "metadata": {},
   "outputs": [
    {
     "name": "stdout",
     "output_type": "stream",
     "text": [
      "-----------------------------\n",
      "|\"number of rows inserted\"  |\n",
      "-----------------------------\n",
      "|2                          |\n",
      "-----------------------------\n",
      "\n"
     ]
    }
   ],
   "source": [
    "session.sql('''\n",
    "insert into store_n_forward_DIM\n",
    "values\n",
    "(1,'Y', 'store and forward trip'),\n",
    "(2,'N', 'not a store and forward trip');\n",
    "''').show()"
   ]
  },
  {
   "cell_type": "code",
   "execution_count": 43,
   "id": "ee6a8f00",
   "metadata": {
    "scrolled": true
   },
   "outputs": [
    {
     "name": "stdout",
     "output_type": "stream",
     "text": [
      "--------------------------------------------\n",
      "|\"status\"                                  |\n",
      "--------------------------------------------\n",
      "|Table RATECODE_DIM successfully created.  |\n",
      "--------------------------------------------\n",
      "\n"
     ]
    }
   ],
   "source": [
    "session.sql('''\n",
    "create or replace table rateCode_DIM(\n",
    "RateCodeID int,\n",
    "RateType varchar,\n",
    "primary key (RateCodeID)\n",
    ");\n",
    "''').show()"
   ]
  },
  {
   "cell_type": "code",
   "execution_count": 44,
   "id": "9f9c44d5",
   "metadata": {
    "scrolled": true
   },
   "outputs": [
    {
     "name": "stdout",
     "output_type": "stream",
     "text": [
      "-----------------------------\n",
      "|\"number of rows inserted\"  |\n",
      "-----------------------------\n",
      "|6                          |\n",
      "-----------------------------\n",
      "\n"
     ]
    }
   ],
   "source": [
    "session.sql('''\n",
    "insert into RateCode_DIM\n",
    "values\n",
    "(1,'Standard rate'),\n",
    "(2,'JFK'),\n",
    "(3,'Newark'),\n",
    "(4,'Nassau or Westchester'),\n",
    "(5,'Negotiated fare'),\n",
    "(6,'Group ride');\n",
    "''').show()"
   ]
  },
  {
   "cell_type": "code",
   "execution_count": 45,
   "id": "ec73106c",
   "metadata": {
    "scrolled": true
   },
   "outputs": [
    {
     "name": "stdout",
     "output_type": "stream",
     "text": [
      "-----------------------------------------------\n",
      "|\"MAX(PU_LOCATIONID)\"  |\"MIN(PU_LOCATIONID)\"  |\n",
      "-----------------------------------------------\n",
      "|265                   |1                     |\n",
      "-----------------------------------------------\n",
      "\n"
     ]
    }
   ],
   "source": [
    "session.sql('''\n",
    "select max(PU_locationID),min(PU_locationID) from uber_data_raw\n",
    "''').show()"
   ]
  },
  {
   "cell_type": "code",
   "execution_count": 46,
   "id": "a9d2ef20",
   "metadata": {
    "scrolled": false
   },
   "outputs": [
    {
     "name": "stdout",
     "output_type": "stream",
     "text": [
      "-----------------------------------------------\n",
      "|\"MAX(DO_LOCATIONID)\"  |\"MIN(DO_LOCATIONID)\"  |\n",
      "-----------------------------------------------\n",
      "|265                   |1                     |\n",
      "-----------------------------------------------\n",
      "\n"
     ]
    }
   ],
   "source": [
    "session.sql('''\n",
    "select max(DO_locationID),min(DO_locationID) from uber_data_raw\n",
    "''').show()"
   ]
  },
  {
   "cell_type": "code",
   "execution_count": 13,
   "id": "d0da018f",
   "metadata": {},
   "outputs": [
    {
     "name": "stdout",
     "output_type": "stream",
     "text": [
      "-----------------------------------\n",
      "|\"COUNT(DISTINCT DO_LOCATIONID)\"  |\n",
      "-----------------------------------\n",
      "|261                              |\n",
      "-----------------------------------\n",
      "\n"
     ]
    }
   ],
   "source": [
    "session.sql('''\n",
    "select count(distinct DO_locationid) from uber_data_raw \n",
    "\n",
    "''').show()"
   ]
  },
  {
   "cell_type": "code",
   "execution_count": 7,
   "id": "9acbb127",
   "metadata": {},
   "outputs": [
    {
     "data": {
      "text/plain": [
       "[PutResult(source='list_of_real_usa_addresses.csv', target='list_of_real_usa_addresses.csv.gz', source_size=10788, target_size=4432, source_compression='NONE', target_compression='GZIP', status='UPLOADED', message='')]"
      ]
     },
     "execution_count": 7,
     "metadata": {},
     "output_type": "execute_result"
    }
   ],
   "source": [
    "session.file.put(\"file://E:/GritFeat/SQL/Uber_data/list_of_real_usa_addresses.csv\",\"csv_stage\")"
   ]
  },
  {
   "cell_type": "code",
   "execution_count": 39,
   "id": "b49a4d9a",
   "metadata": {},
   "outputs": [],
   "source": [
    "location_schema = StructType([ \n",
    "                        StructField(\"Address\", StringType()),\n",
    "                        StructField(\"City\", StringType()),\n",
    "                        StructField(\"State\", StringType()),\n",
    "                        StructField(\"Zip\" , StringType()),\n",
    "                        ])"
   ]
  },
  {
   "cell_type": "code",
   "execution_count": 9,
   "id": "19fe8c56",
   "metadata": {},
   "outputs": [
    {
     "name": "stdout",
     "output_type": "stream",
     "text": [
      "-----------------------------------------------------------------------------------------------------------------------------\n",
      "|\"name\"                                       |\"size\"    |\"md5\"                             |\"last_modified\"                |\n",
      "-----------------------------------------------------------------------------------------------------------------------------\n",
      "|csv_stage/2023_Uber_data.csv.gz              |64091984  |2af75b6adc5d8a96c9f33c2eff02aacd  |Sun, 21 May 2023 18:58:23 GMT  |\n",
      "|csv_stage/list_of_real_usa_addresses.csv.gz  |4432      |de7d4dba45a086d08f99dd010f3e7d23  |Mon, 22 May 2023 11:33:52 GMT  |\n",
      "-----------------------------------------------------------------------------------------------------------------------------\n",
      "\n"
     ]
    }
   ],
   "source": [
    "session.sql('list @csv_stage;').show()"
   ]
  },
  {
   "cell_type": "code",
   "execution_count": 40,
   "id": "4fa0133e",
   "metadata": {
    "scrolled": false
   },
   "outputs": [],
   "source": [
    "filepath = \"@csv_stage/list_of_real_usa_addresses.csv.gz\"\n",
    "location_data = session.read\\\n",
    "                .schema(location_schema)\\\n",
    "                .options({\"field_delimiter\":\",\",\n",
    "                                \"skip_header\":1,\n",
    "                                \"compression\":\"gzip\"})\\\n",
    "                    .csv(filepath)"
   ]
  },
  {
   "cell_type": "code",
   "execution_count": 41,
   "id": "1b3b4764",
   "metadata": {
    "scrolled": true
   },
   "outputs": [
    {
     "name": "stdout",
     "output_type": "stream",
     "text": [
      "---------------------------------------------------------------------\n",
      "|\"ADDRESS\"                     |\"CITY\"           |\"STATE\"  |\"ZIP\"   |\n",
      "---------------------------------------------------------------------\n",
      "|\"777 Brockton Avenue\"         |\"Abington\"       |\"MA\"     |\"2351\"  |\n",
      "|\"30 Memorial Drive\"           |\"Avon\"           |\"MA\"     |\"2322\"  |\n",
      "|\"250 Hartford Avenue\"         |\"Bellingham\"     |\"MA\"     |\"2019\"  |\n",
      "|\"700 Oak Street\"              |\"Brockton\"       |\"MA\"     |\"2301\"  |\n",
      "|\"66-4 Parkhurst Rd\"           |\"Chelmsford\"     |\"MA\"     |\"1824\"  |\n",
      "|\"591 Memorial Dr\"             |\"Chicopee\"       |\"MA\"     |\"1020\"  |\n",
      "|\"55 Brooksby Village Way\"     |\"Danvers\"        |\"MA\"     |\"1923\"  |\n",
      "|\"137 Teaticket Hwy\"           |\"East Falmouth\"  |\"MA\"     |\"2536\"  |\n",
      "|\"42 Fairhaven Commons Way\"    |\"Fairhaven\"      |\"MA\"     |\"2719\"  |\n",
      "|\"374 William S Canning Blvd\"  |\"Fall River\"     |\"MA\"     |\"2721\"  |\n",
      "---------------------------------------------------------------------\n",
      "\n"
     ]
    }
   ],
   "source": [
    "location_data.show()"
   ]
  },
  {
   "cell_type": "code",
   "execution_count": 42,
   "id": "c3572a7a",
   "metadata": {},
   "outputs": [],
   "source": [
    "locationID = session.range(1, 300, 1).to_df(\"LocationID\")"
   ]
  },
  {
   "cell_type": "code",
   "execution_count": 43,
   "id": "25457278",
   "metadata": {
    "scrolled": true
   },
   "outputs": [
    {
     "name": "stdout",
     "output_type": "stream",
     "text": [
      "----------------\n",
      "|\"LOCATIONID\"  |\n",
      "----------------\n",
      "|1             |\n",
      "|2             |\n",
      "|3             |\n",
      "|4             |\n",
      "|5             |\n",
      "|6             |\n",
      "|7             |\n",
      "|8             |\n",
      "|9             |\n",
      "|10            |\n",
      "----------------\n",
      "\n"
     ]
    }
   ],
   "source": [
    "locationID.show()"
   ]
  },
  {
   "cell_type": "code",
   "execution_count": 56,
   "id": "c52772be",
   "metadata": {},
   "outputs": [],
   "source": [
    "locationID = locationID.to_pandas()"
   ]
  },
  {
   "cell_type": "code",
   "execution_count": 57,
   "id": "5a6cde6d",
   "metadata": {},
   "outputs": [],
   "source": [
    "location_data = location_data.to_pandas()"
   ]
  },
  {
   "cell_type": "code",
   "execution_count": 58,
   "id": "00ee24dd",
   "metadata": {
    "scrolled": true
   },
   "outputs": [
    {
     "data": {
      "text/html": [
       "<div>\n",
       "<style scoped>\n",
       "    .dataframe tbody tr th:only-of-type {\n",
       "        vertical-align: middle;\n",
       "    }\n",
       "\n",
       "    .dataframe tbody tr th {\n",
       "        vertical-align: top;\n",
       "    }\n",
       "\n",
       "    .dataframe thead th {\n",
       "        text-align: right;\n",
       "    }\n",
       "</style>\n",
       "<table border=\"1\" class=\"dataframe\">\n",
       "  <thead>\n",
       "    <tr style=\"text-align: right;\">\n",
       "      <th></th>\n",
       "      <th>LOCATIONID</th>\n",
       "      <th>ADDRESS</th>\n",
       "      <th>CITY</th>\n",
       "      <th>STATE</th>\n",
       "      <th>ZIP</th>\n",
       "    </tr>\n",
       "  </thead>\n",
       "  <tbody>\n",
       "    <tr>\n",
       "      <th>0</th>\n",
       "      <td>1</td>\n",
       "      <td>\"777 Brockton Avenue\"</td>\n",
       "      <td>\"Abington\"</td>\n",
       "      <td>\"MA\"</td>\n",
       "      <td>\"2351\"</td>\n",
       "    </tr>\n",
       "    <tr>\n",
       "      <th>1</th>\n",
       "      <td>2</td>\n",
       "      <td>\"30 Memorial Drive\"</td>\n",
       "      <td>\"Avon\"</td>\n",
       "      <td>\"MA\"</td>\n",
       "      <td>\"2322\"</td>\n",
       "    </tr>\n",
       "  </tbody>\n",
       "</table>\n",
       "</div>"
      ],
      "text/plain": [
       "   LOCATIONID                ADDRESS        CITY STATE     ZIP\n",
       "0           1  \"777 Brockton Avenue\"  \"Abington\"  \"MA\"  \"2351\"\n",
       "1           2    \"30 Memorial Drive\"      \"Avon\"  \"MA\"  \"2322\""
      ]
     },
     "execution_count": 58,
     "metadata": {},
     "output_type": "execute_result"
    }
   ],
   "source": [
    "location_df = pd.concat([locationID,location_data],axis=1)\n",
    "location_df.head(2)"
   ]
  },
  {
   "cell_type": "code",
   "execution_count": 60,
   "id": "5e252ebe",
   "metadata": {},
   "outputs": [
    {
     "name": "stdout",
     "output_type": "stream",
     "text": [
      "--------------------------------------------\n",
      "|\"status\"                                  |\n",
      "--------------------------------------------\n",
      "|Table LOCATION_DIM successfully created.  |\n",
      "--------------------------------------------\n",
      "\n"
     ]
    }
   ],
   "source": [
    "session.sql('''\n",
    "create or replace table location_DIM(\n",
    "LocationID int identity ,\n",
    "Address varchar,\n",
    "City varchar,\n",
    "State varchar,\n",
    "ZipCode varchar,\n",
    "primary key (LocationID));\n",
    "''').show()"
   ]
  },
  {
   "cell_type": "code",
   "execution_count": 62,
   "id": "e361c266",
   "metadata": {},
   "outputs": [],
   "source": [
    "location_df = session.createDataFrame(location_df)"
   ]
  },
  {
   "cell_type": "code",
   "execution_count": 63,
   "id": "e4079f37",
   "metadata": {
    "scrolled": true
   },
   "outputs": [],
   "source": [
    "location_df.write.mode('append').save_as_table('location_dim')"
   ]
  },
  {
   "cell_type": "code",
   "execution_count": 64,
   "id": "74796f3e",
   "metadata": {
    "scrolled": true
   },
   "outputs": [
    {
     "name": "stdout",
     "output_type": "stream",
     "text": [
      "---------------------------------------------------------------------------------------\n",
      "|\"LOCATIONID\"  |\"ADDRESS\"                     |\"CITY\"           |\"STATE\"  |\"ZIPCODE\"  |\n",
      "---------------------------------------------------------------------------------------\n",
      "|1             |\"777 Brockton Avenue\"         |\"Abington\"       |\"MA\"     |\"2351\"     |\n",
      "|2             |\"30 Memorial Drive\"           |\"Avon\"           |\"MA\"     |\"2322\"     |\n",
      "|3             |\"250 Hartford Avenue\"         |\"Bellingham\"     |\"MA\"     |\"2019\"     |\n",
      "|4             |\"700 Oak Street\"              |\"Brockton\"       |\"MA\"     |\"2301\"     |\n",
      "|5             |\"66-4 Parkhurst Rd\"           |\"Chelmsford\"     |\"MA\"     |\"1824\"     |\n",
      "|6             |\"591 Memorial Dr\"             |\"Chicopee\"       |\"MA\"     |\"1020\"     |\n",
      "|7             |\"55 Brooksby Village Way\"     |\"Danvers\"        |\"MA\"     |\"1923\"     |\n",
      "|8             |\"137 Teaticket Hwy\"           |\"East Falmouth\"  |\"MA\"     |\"2536\"     |\n",
      "|9             |\"42 Fairhaven Commons Way\"    |\"Fairhaven\"      |\"MA\"     |\"2719\"     |\n",
      "|10            |\"374 William S Canning Blvd\"  |\"Fall River\"     |\"MA\"     |\"2721\"     |\n",
      "---------------------------------------------------------------------------------------\n",
      "\n"
     ]
    }
   ],
   "source": [
    "session.sql('''\n",
    "select * from location_dim\n",
    "''').show()"
   ]
  },
  {
   "cell_type": "code",
   "execution_count": 95,
   "id": "05f30a71",
   "metadata": {
    "scrolled": true
   },
   "outputs": [
    {
     "name": "stdout",
     "output_type": "stream",
     "text": [
      "----------------------------------------\n",
      "|\"status\"                              |\n",
      "----------------------------------------\n",
      "|Table TIME_DIM successfully created.  |\n",
      "----------------------------------------\n",
      "\n"
     ]
    }
   ],
   "source": [
    "session.sql('''\n",
    "create or replace table Time_DIM(\n",
    "TimeID int identity,\n",
    "Time time,\n",
    "Hour int,\n",
    "Minute int,\n",
    "second int,\n",
    "primary key (TimeID)\n",
    ");\n",
    "''').show()"
   ]
  },
  {
   "cell_type": "code",
   "execution_count": 82,
   "id": "c9bf5e08",
   "metadata": {},
   "outputs": [
    {
     "name": "stdout",
     "output_type": "stream",
     "text": [
      "----------------------------------------\n",
      "|\"status\"                              |\n",
      "----------------------------------------\n",
      "|Table DATE_DIM successfully created.  |\n",
      "----------------------------------------\n",
      "\n"
     ]
    }
   ],
   "source": [
    "session.sql('''\n",
    "create or replace table Date_DIM(\n",
    "DateID int identity,\n",
    "Date date,\n",
    "Day int,\n",
    "Month int,\n",
    "Year int,\n",
    "primary key (DateID)\n",
    ");\n",
    "''').show()"
   ]
  },
  {
   "cell_type": "code",
   "execution_count": 77,
   "id": "e97d98bf",
   "metadata": {},
   "outputs": [
    {
     "name": "stdout",
     "output_type": "stream",
     "text": [
      "---------------------------------------------------------------------------------------------------------------------------------------------------------------------------------------\n",
      "|\"TO_DATE(\"\"TPEP_PICKUP_DATETIME\"\")\"  |\"DATE_PART('YEAR', \"\"TPEP_PICKUP_DATETIME\"\")\"  |\"DATE_PART('MONTH', \"\"TPEP_PICKUP_DATETIME\"\")\"  |\"DATE_PART('DAY', \"\"TPEP_PICKUP_DATETIME\"\")\"  |\n",
      "---------------------------------------------------------------------------------------------------------------------------------------------------------------------------------------\n",
      "|2023-01-01                           |2023                                           |1                                               |1                                             |\n",
      "|2022-12-31                           |2022                                           |12                                              |31                                            |\n",
      "|2022-10-24                           |2022                                           |10                                              |24                                            |\n",
      "---------------------------------------------------------------------------------------------------------------------------------------------------------------------------------------\n",
      "\n"
     ]
    }
   ],
   "source": [
    "\n",
    "from snowflake.snowpark.functions import date_part,as_date,date_trunc, to_date\n",
    "from snowflake.snowpark.functions import col\n",
    "import datetime\n",
    "\n",
    "date_PU_DF =  data.select((to_date(col(\"tpep_pickup_datetime\"))),\n",
    "                            date_part(\"year\",col(\"tpep_pickup_datetime\")),\n",
    "                         date_part(\"month\",col(\"tpep_pickup_datetime\")),\n",
    "                         date_part(\"day\",col(\"tpep_pickup_datetime\"))).distinct()\n",
    "date_PU_DF.show(3)"
   ]
  },
  {
   "cell_type": "code",
   "execution_count": 78,
   "id": "d8a70db0",
   "metadata": {},
   "outputs": [
    {
     "name": "stdout",
     "output_type": "stream",
     "text": [
      "-------------------------------------------------------------------------------------------------------------------------------------------------------------------------------------------\n",
      "|\"TO_DATE(\"\"TPEP_DROPOFF_DATETIME\"\")\"  |\"DATE_PART('YEAR', \"\"TPEP_DROPOFF_DATETIME\"\")\"  |\"DATE_PART('MONTH', \"\"TPEP_DROPOFF_DATETIME\"\")\"  |\"DATE_PART('DAY', \"\"TPEP_DROPOFF_DATETIME\"\")\"  |\n",
      "-------------------------------------------------------------------------------------------------------------------------------------------------------------------------------------------\n",
      "|2023-01-01                            |2023                                            |1                                                |1                                              |\n",
      "|2022-12-31                            |2022                                            |12                                               |31                                             |\n",
      "|2023-01-02                            |2023                                            |1                                                |2                                              |\n",
      "-------------------------------------------------------------------------------------------------------------------------------------------------------------------------------------------\n",
      "\n"
     ]
    }
   ],
   "source": [
    "\n",
    "date_DO_DF =  data.select((to_date(col(\"tpep_dropoff_datetime\"))),\n",
    "                            date_part(\"year\",col(\"tpep_dropoff_datetime\")),\n",
    "                         date_part(\"month\",col(\"tpep_dropoff_datetime\")),\n",
    "                         date_part(\"day\",col(\"tpep_dropoff_datetime\"))).distinct()\n",
    "date_DO_DF.show(3)"
   ]
  },
  {
   "cell_type": "code",
   "execution_count": 79,
   "id": "2dedd54f",
   "metadata": {},
   "outputs": [],
   "source": [
    "date_df = date_PU_DF.union(date_DO_DF)"
   ]
  },
  {
   "cell_type": "code",
   "execution_count": 80,
   "id": "fa27f864",
   "metadata": {},
   "outputs": [],
   "source": [
    "date_df = date_df.distinct()"
   ]
  },
  {
   "cell_type": "code",
   "execution_count": 81,
   "id": "e792e19d",
   "metadata": {},
   "outputs": [
    {
     "data": {
      "text/plain": [
       "38"
      ]
     },
     "execution_count": 81,
     "metadata": {},
     "output_type": "execute_result"
    }
   ],
   "source": [
    "date_df.count()"
   ]
  },
  {
   "cell_type": "code",
   "execution_count": 83,
   "id": "49e36060",
   "metadata": {},
   "outputs": [],
   "source": [
    "dateID = session.range(1, 40, 1).to_df(\"DateID\")"
   ]
  },
  {
   "cell_type": "code",
   "execution_count": 84,
   "id": "4afa726c",
   "metadata": {
    "scrolled": true
   },
   "outputs": [],
   "source": [
    "\n",
    "dateID = dateID.to_pandas()\n",
    "date_df = date_df.to_pandas()"
   ]
  },
  {
   "cell_type": "code",
   "execution_count": 85,
   "id": "a1a0ba98",
   "metadata": {
    "scrolled": true
   },
   "outputs": [
    {
     "data": {
      "text/html": [
       "<div>\n",
       "<style scoped>\n",
       "    .dataframe tbody tr th:only-of-type {\n",
       "        vertical-align: middle;\n",
       "    }\n",
       "\n",
       "    .dataframe tbody tr th {\n",
       "        vertical-align: top;\n",
       "    }\n",
       "\n",
       "    .dataframe thead th {\n",
       "        text-align: right;\n",
       "    }\n",
       "</style>\n",
       "<table border=\"1\" class=\"dataframe\">\n",
       "  <thead>\n",
       "    <tr style=\"text-align: right;\">\n",
       "      <th></th>\n",
       "      <th>DATEID</th>\n",
       "      <th>TO_DATE(\"TPEP_PICKUP_DATETIME\")</th>\n",
       "      <th>DATE_PART('YEAR', \"TPEP_PICKUP_DATETIME\")</th>\n",
       "      <th>DATE_PART('MONTH', \"TPEP_PICKUP_DATETIME\")</th>\n",
       "      <th>DATE_PART('DAY', \"TPEP_PICKUP_DATETIME\")</th>\n",
       "    </tr>\n",
       "  </thead>\n",
       "  <tbody>\n",
       "    <tr>\n",
       "      <th>0</th>\n",
       "      <td>1</td>\n",
       "      <td>2023-01-01</td>\n",
       "      <td>2023.0</td>\n",
       "      <td>1.0</td>\n",
       "      <td>1.0</td>\n",
       "    </tr>\n",
       "    <tr>\n",
       "      <th>1</th>\n",
       "      <td>2</td>\n",
       "      <td>2022-12-31</td>\n",
       "      <td>2022.0</td>\n",
       "      <td>12.0</td>\n",
       "      <td>31.0</td>\n",
       "    </tr>\n",
       "  </tbody>\n",
       "</table>\n",
       "</div>"
      ],
      "text/plain": [
       "   DATEID TO_DATE(\"TPEP_PICKUP_DATETIME\")  \\\n",
       "0       1                      2023-01-01   \n",
       "1       2                      2022-12-31   \n",
       "\n",
       "   DATE_PART('YEAR', \"TPEP_PICKUP_DATETIME\")  \\\n",
       "0                                     2023.0   \n",
       "1                                     2022.0   \n",
       "\n",
       "   DATE_PART('MONTH', \"TPEP_PICKUP_DATETIME\")  \\\n",
       "0                                         1.0   \n",
       "1                                        12.0   \n",
       "\n",
       "   DATE_PART('DAY', \"TPEP_PICKUP_DATETIME\")  \n",
       "0                                       1.0  \n",
       "1                                      31.0  "
      ]
     },
     "execution_count": 85,
     "metadata": {},
     "output_type": "execute_result"
    }
   ],
   "source": [
    "date_df = pd.concat([dateID,date_df],axis = 1)\n",
    "date_df.head(2)"
   ]
  },
  {
   "cell_type": "code",
   "execution_count": 86,
   "id": "84f38d35",
   "metadata": {},
   "outputs": [],
   "source": [
    "date_df = session.createDataFrame(date_df)"
   ]
  },
  {
   "cell_type": "code",
   "execution_count": 87,
   "id": "b5a7dba5",
   "metadata": {},
   "outputs": [],
   "source": [
    "date_df.write.mode('append').save_as_table('date_dim')"
   ]
  },
  {
   "cell_type": "code",
   "execution_count": 89,
   "id": "2032eb8f",
   "metadata": {
    "scrolled": true
   },
   "outputs": [
    {
     "name": "stdout",
     "output_type": "stream",
     "text": [
      "----------------------------------------------------\n",
      "|\"DATEID\"  |\"DATE\"      |\"DAY\"  |\"MONTH\"  |\"YEAR\"  |\n",
      "----------------------------------------------------\n",
      "|1         |2023-01-01  |2023   |1        |1       |\n",
      "|2         |2022-12-31  |2022   |12       |31      |\n",
      "----------------------------------------------------\n",
      "\n"
     ]
    }
   ],
   "source": [
    "session.sql('''\n",
    "select * from date_dim limit 2''').show()"
   ]
  },
  {
   "cell_type": "code",
   "execution_count": null,
   "id": "0ef94ea5",
   "metadata": {},
   "outputs": [],
   "source": []
  },
  {
   "cell_type": "code",
   "execution_count": 93,
   "id": "c9d29ba4",
   "metadata": {
    "scrolled": true
   },
   "outputs": [
    {
     "name": "stdout",
     "output_type": "stream",
     "text": [
      "----------------------------------------------------------------------------------------------------------------------------------------------------\n",
      "|\"TO_TIME(\"\"TPEP_PICKUP_DATETIME\"\")\"  |\"HOUR(\"\"TPEP_PICKUP_DATETIME\"\")\"  |\"MINUTE(\"\"TPEP_PICKUP_DATETIME\"\")\"  |\"SECOND(\"\"TPEP_PICKUP_DATETIME\"\")\"  |\n",
      "----------------------------------------------------------------------------------------------------------------------------------------------------\n",
      "|00:32:10                             |0                                 |32                                  |10                                  |\n",
      "|00:55:08                             |0                                 |55                                  |8                                   |\n",
      "|00:25:04                             |0                                 |25                                  |4                                   |\n",
      "----------------------------------------------------------------------------------------------------------------------------------------------------\n",
      "\n"
     ]
    }
   ],
   "source": [
    "from snowflake.snowpark.functions import hour,minute,second,to_time\n",
    "from snowflake.snowpark.functions import col\n",
    "import datetime\n",
    "\n",
    "time_PU_DF =  data.select((to_time(col(\"tpep_pickup_datetime\"))),\n",
    "                            hour(\"tpep_pickup_datetime\"),\n",
    "                         minute(\"tpep_pickup_datetime\"),\n",
    "                         second(\"tpep_pickup_datetime\")).distinct()\n",
    "time_PU_DF.show(3)"
   ]
  },
  {
   "cell_type": "code",
   "execution_count": 94,
   "id": "c6d14e84",
   "metadata": {},
   "outputs": [
    {
     "name": "stdout",
     "output_type": "stream",
     "text": [
      "--------------------------------------------------------------------------------------------------------------------------------------------------------\n",
      "|\"TO_TIME(\"\"TPEP_DROPOFF_DATETIME\"\")\"  |\"HOUR(\"\"TPEP_DROPOFF_DATETIME\"\")\"  |\"MINUTE(\"\"TPEP_DROPOFF_DATETIME\"\")\"  |\"SECOND(\"\"TPEP_DROPOFF_DATETIME\"\")\"  |\n",
      "--------------------------------------------------------------------------------------------------------------------------------------------------------\n",
      "|00:40:36                              |0                                  |40                                   |36                                   |\n",
      "|01:01:27                              |1                                  |1                                    |27                                   |\n",
      "|00:37:49                              |0                                  |37                                   |49                                   |\n",
      "--------------------------------------------------------------------------------------------------------------------------------------------------------\n",
      "\n"
     ]
    }
   ],
   "source": [
    "time_DO_DF =  data.select((to_time(col(\"tpep_dropoff_datetime\"))),\n",
    "                            hour(\"tpep_dropoff_datetime\"),\n",
    "                         minute(\"tpep_dropoff_datetime\"),\n",
    "                         second(\"tpep_dropoff_datetime\")).distinct()\n",
    "time_DO_DF.show(3)"
   ]
  },
  {
   "cell_type": "code",
   "execution_count": 10,
   "id": "a395b144",
   "metadata": {
    "scrolled": false
   },
   "outputs": [
    {
     "name": "stdout",
     "output_type": "stream",
     "text": [
      "-------------------------------------------\n",
      "|\"TIME\"    |\"HOUR\"  |\"MINUTE\"  |\"SECOND\"  |\n",
      "-------------------------------------------\n",
      "|12:32:02  |12      |32        |2         |\n",
      "|12:53:23  |12      |53        |23        |\n",
      "|12:39:44  |12      |39        |44        |\n",
      "|12:50:54  |12      |50        |54        |\n",
      "|12:08:00  |12      |8         |0         |\n",
      "|12:54:38  |12      |54        |38        |\n",
      "|12:43:22  |12      |43        |22        |\n",
      "|12:55:58  |12      |55        |58        |\n",
      "|12:44:44  |12      |44        |44        |\n",
      "|19:15:06  |19      |15        |6         |\n",
      "-------------------------------------------\n",
      "\n"
     ]
    }
   ],
   "source": [
    "time_PU_df.show()"
   ]
  },
  {
   "cell_type": "code",
   "execution_count": 96,
   "id": "e9a29280",
   "metadata": {},
   "outputs": [],
   "source": [
    "time_df = time_PU_DF.union(time_DO_DF)"
   ]
  },
  {
   "cell_type": "code",
   "execution_count": 97,
   "id": "1d8f272b",
   "metadata": {},
   "outputs": [],
   "source": [
    "time_df = time_df.distinct()"
   ]
  },
  {
   "cell_type": "code",
   "execution_count": 98,
   "id": "7b30971d",
   "metadata": {},
   "outputs": [
    {
     "data": {
      "text/plain": [
       "86400"
      ]
     },
     "execution_count": 98,
     "metadata": {},
     "output_type": "execute_result"
    }
   ],
   "source": [
    "time_df.count()"
   ]
  },
  {
   "cell_type": "code",
   "execution_count": 14,
   "id": "f037bb1e",
   "metadata": {
    "scrolled": true
   },
   "outputs": [
    {
     "name": "stdout",
     "output_type": "stream",
     "text": [
      "-------------------------------------------\n",
      "|\"TIME\"    |\"HOUR\"  |\"MINUTE\"  |\"SECOND\"  |\n",
      "-------------------------------------------\n",
      "|12:32:02  |12      |32        |2         |\n",
      "|12:53:23  |12      |53        |23        |\n",
      "|12:18:19  |12      |18        |19        |\n",
      "|13:02:52  |13      |2         |52        |\n",
      "|12:17:45  |12      |17        |45        |\n",
      "|12:14:28  |12      |14        |28        |\n",
      "|12:50:22  |12      |50        |22        |\n",
      "|12:27:36  |12      |27        |36        |\n",
      "|12:14:58  |12      |14        |58        |\n",
      "|12:58:22  |12      |58        |22        |\n",
      "-------------------------------------------\n",
      "\n"
     ]
    }
   ],
   "source": [
    "time_df.show()"
   ]
  },
  {
   "cell_type": "code",
   "execution_count": 15,
   "id": "0566192b",
   "metadata": {},
   "outputs": [
    {
     "data": {
      "text/plain": [
       "86400"
      ]
     },
     "execution_count": 15,
     "metadata": {},
     "output_type": "execute_result"
    }
   ],
   "source": [
    "time_df.count()"
   ]
  },
  {
   "cell_type": "code",
   "execution_count": 99,
   "id": "725dc0a4",
   "metadata": {},
   "outputs": [],
   "source": [
    "timeID = session.range(1, 86500, 1).to_df(\"TimeID\")\n",
    "timeID = timeID.to_pandas()\n",
    "time_df = time_df.to_pandas()"
   ]
  },
  {
   "cell_type": "code",
   "execution_count": 100,
   "id": "0028503a",
   "metadata": {},
   "outputs": [
    {
     "data": {
      "text/html": [
       "<div>\n",
       "<style scoped>\n",
       "    .dataframe tbody tr th:only-of-type {\n",
       "        vertical-align: middle;\n",
       "    }\n",
       "\n",
       "    .dataframe tbody tr th {\n",
       "        vertical-align: top;\n",
       "    }\n",
       "\n",
       "    .dataframe thead th {\n",
       "        text-align: right;\n",
       "    }\n",
       "</style>\n",
       "<table border=\"1\" class=\"dataframe\">\n",
       "  <thead>\n",
       "    <tr style=\"text-align: right;\">\n",
       "      <th></th>\n",
       "      <th>TIMEID</th>\n",
       "      <th>TO_TIME(\"TPEP_PICKUP_DATETIME\")</th>\n",
       "      <th>HOUR(\"TPEP_PICKUP_DATETIME\")</th>\n",
       "      <th>MINUTE(\"TPEP_PICKUP_DATETIME\")</th>\n",
       "      <th>SECOND(\"TPEP_PICKUP_DATETIME\")</th>\n",
       "    </tr>\n",
       "  </thead>\n",
       "  <tbody>\n",
       "    <tr>\n",
       "      <th>0</th>\n",
       "      <td>1</td>\n",
       "      <td>00:32:10</td>\n",
       "      <td>0.0</td>\n",
       "      <td>32.0</td>\n",
       "      <td>10.0</td>\n",
       "    </tr>\n",
       "    <tr>\n",
       "      <th>1</th>\n",
       "      <td>2</td>\n",
       "      <td>00:55:08</td>\n",
       "      <td>0.0</td>\n",
       "      <td>55.0</td>\n",
       "      <td>8.0</td>\n",
       "    </tr>\n",
       "  </tbody>\n",
       "</table>\n",
       "</div>"
      ],
      "text/plain": [
       "   TIMEID TO_TIME(\"TPEP_PICKUP_DATETIME\")  HOUR(\"TPEP_PICKUP_DATETIME\")  \\\n",
       "0       1                        00:32:10                           0.0   \n",
       "1       2                        00:55:08                           0.0   \n",
       "\n",
       "   MINUTE(\"TPEP_PICKUP_DATETIME\")  SECOND(\"TPEP_PICKUP_DATETIME\")  \n",
       "0                            32.0                            10.0  \n",
       "1                            55.0                             8.0  "
      ]
     },
     "execution_count": 100,
     "metadata": {},
     "output_type": "execute_result"
    }
   ],
   "source": [
    "time_df = pd.concat([timeID,time_df],axis = 1)\n",
    "time_df.head(2)"
   ]
  },
  {
   "cell_type": "code",
   "execution_count": 101,
   "id": "924c50f5",
   "metadata": {},
   "outputs": [],
   "source": [
    "time_df = session.createDataFrame(time_df)"
   ]
  },
  {
   "cell_type": "code",
   "execution_count": 102,
   "id": "82833b46",
   "metadata": {},
   "outputs": [],
   "source": [
    "time_df.write.mode('append').save_as_table('time_dim')"
   ]
  },
  {
   "cell_type": "code",
   "execution_count": 103,
   "id": "24978f01",
   "metadata": {},
   "outputs": [
    {
     "name": "stdout",
     "output_type": "stream",
     "text": [
      "------------------------------------------------------\n",
      "|\"TIMEID\"  |\"TIME\"    |\"HOUR\"  |\"MINUTE\"  |\"SECOND\"  |\n",
      "------------------------------------------------------\n",
      "|1         |00:32:10  |0       |32        |10        |\n",
      "|2         |00:55:08  |0       |55        |8         |\n",
      "------------------------------------------------------\n",
      "\n"
     ]
    }
   ],
   "source": [
    "session.sql('''\n",
    "select * from time_Dim limit 2\n",
    "''').show()"
   ]
  },
  {
   "cell_type": "code",
   "execution_count": 105,
   "id": "f5b11c58",
   "metadata": {},
   "outputs": [
    {
     "name": "stdout",
     "output_type": "stream",
     "text": [
      "---------------------------------------------\n",
      "|\"status\"                                   |\n",
      "---------------------------------------------\n",
      "|Table TAXITRIP_FACT successfully created.  |\n",
      "---------------------------------------------\n",
      "\n"
     ]
    }
   ],
   "source": [
    "session.sql('''\n",
    "create or replace table taxiTrip_fact(\n",
    "\n",
    "taxitrip_ID int identity,\n",
    "VendorID int,\n",
    "\n",
    "Pickup_dateID int,\n",
    "dropOff_dateID int,\n",
    "Pickup_timeID int,\n",
    "Dropoff_timeID int,\n",
    "\n",
    "passenger_count int,\n",
    "trip_distance float,\n",
    "RateCodeID int,\n",
    "Store_n_forwardID int,\n",
    "\n",
    "pickup_locationID int,\n",
    "dropoff_locationID int,\n",
    "\n",
    "PaymentID int,\n",
    "fare_amount float,\n",
    "extra float,\n",
    "mta_tax float,\n",
    "tip_amount float,\n",
    "tolls_amount float,\n",
    "improvement_surcharge float,\n",
    "total_amount float,\n",
    "congestion_surcharge float,\n",
    "airport_fee float,\n",
    "\n",
    "foreign key (pickup_locationID) references Location_DIM(locationID),\n",
    "foreign key (dropoff_locationID) references Location_DIM(locationID),\n",
    "foreign key (VendorID) references Vendor_DIM(VendorID),\n",
    "foreign key (Store_n_forwardID) references Store_n_Forward_DIM(FlagID),\n",
    "foreign key (RateCodeID) references RateCode_DIM(RateCodeID),\n",
    "foreign key (PaymentID) references Payment_DIM(PaymentID),\n",
    "foreign key (Pickup_dateID) references Date_DIM(DateID),\n",
    "foreign key (dropOff_dateID) references Date_DIM(DateID),\n",
    "foreign key (Pickup_timeID) references Time_DIM(TimeID),\n",
    "foreign key (Dropoff_timeID) references Time_DIM(TimeID),\n",
    "primary key (taxitrip_ID)\n",
    ");\n",
    "\n",
    "\n",
    "''').show()"
   ]
  },
  {
   "cell_type": "code",
   "execution_count": 187,
   "id": "3f440948",
   "metadata": {
    "scrolled": true
   },
   "outputs": [
    {
     "name": "stdout",
     "output_type": "stream",
     "text": [
      "--------------------------------------------------------------------------------------------------------------------------------------------------------------------------------------------------------------------------------------------------------------------\n",
      "|\"ID\"  |\"VENDORID\"  |\"PASSENGER_COUNT\"  |\"TRIP_DISTANCE\"  |\"RATE_CODE_ID\"  |\"PU_LOCATIONID\"  |\"DO_LOCATIONID\"  |\"FARE_AMOUNT\"  |\"EXTRA\"  |\"MTA_TAX\"  |\"TIP_AMOUNT\"  |\"TOLLS_AMOUNT\"  |\"IMPROVEMENT_SURCHARGE\"  |\"TOTAL_AMOUNT\"  |\"CONGESTION_SURCHARGE\"  |\"FLOAT\"  |\n",
      "--------------------------------------------------------------------------------------------------------------------------------------------------------------------------------------------------------------------------------------------------------------------\n",
      "|0     |2           |1                  |0.97             |1               |161              |141              |9.3            |1.0      |0.5        |0.0           |0.0             |1.0                      |14.3            |2.5                     |0.0      |\n",
      "|1     |2           |1                  |1.1              |1               |43               |237              |7.9            |1.0      |0.5        |4.0           |0.0             |1.0                      |16.9            |2.5                     |0.0      |\n",
      "|2     |2           |1                  |2.51             |1               |48               |238              |14.9           |1.0      |0.5        |15.0          |0.0             |1.0                      |34.9            |2.5                     |0.0      |\n",
      "--------------------------------------------------------------------------------------------------------------------------------------------------------------------------------------------------------------------------------------------------------------------\n",
      "\n"
     ]
    }
   ],
   "source": [
    "fact_table.show(3)"
   ]
  },
  {
   "cell_type": "code",
   "execution_count": 203,
   "id": "3ea4ff30",
   "metadata": {},
   "outputs": [],
   "source": [
    "time_key_table = session.sql('''\n",
    "select TimeID,time \n",
    "from\n",
    "time_dim\n",
    "''')"
   ]
  },
  {
   "cell_type": "code",
   "execution_count": 204,
   "id": "de66f24e",
   "metadata": {
    "scrolled": true
   },
   "outputs": [
    {
     "name": "stdout",
     "output_type": "stream",
     "text": [
      "-----------------------\n",
      "|\"TIMEID\"  |\"TIME\"    |\n",
      "-----------------------\n",
      "|1         |06:53:55  |\n",
      "|2         |06:27:37  |\n",
      "|3         |06:43:59  |\n",
      "|4         |06:35:37  |\n",
      "|5         |06:35:16  |\n",
      "|6         |06:47:25  |\n",
      "|7         |06:42:59  |\n",
      "|8         |06:55:10  |\n",
      "|9         |06:50:28  |\n",
      "|10        |06:54:02  |\n",
      "-----------------------\n",
      "\n"
     ]
    }
   ],
   "source": [
    "time_key_table.show()"
   ]
  },
  {
   "cell_type": "code",
   "execution_count": 202,
   "id": "ef0bd53f",
   "metadata": {
    "scrolled": false
   },
   "outputs": [
    {
     "name": "stdout",
     "output_type": "stream",
     "text": [
      "------------------------------------------------------------------------------------------------------------------------------------------------------------------------------------------------------------------------------------------------------------------------------------------------------------------------------------------------------------------------\n",
      "|\"ID\"  |\"VENDORID\"  |\"TPEP_PICKUP_DATETIME\"  |\"TPEP_DROPOFF_DATETIME\"  |\"PASSENGER_COUNT\"  |\"TRIP_DISTANCE\"  |\"RATE_CODE_ID\"  |\"STORE_N_FORWARD_FLAG\"  |\"PU_LOCATIONID\"  |\"DO_LOCATIONID\"  |\"PAYMENTTYPEID\"  |\"FARE_AMOUNT\"  |\"EXTRA\"  |\"MTA_TAX\"  |\"TIP_AMOUNT\"  |\"TOLLS_AMOUNT\"  |\"IMPROVEMENT_SURCHARGE\"  |\"TOTAL_AMOUNT\"  |\"CONGESTION_SURCHARGE\"  |\"AIRPORT_FEE\"  |\n",
      "------------------------------------------------------------------------------------------------------------------------------------------------------------------------------------------------------------------------------------------------------------------------------------------------------------------------------------------------------------------------\n",
      "|0     |2           |2023-01-01 00:32:10     |2023-01-01 00:40:36      |1                  |0.97             |1               |N                       |161              |141              |2                |9.3            |1.0      |0.5        |0.0           |0.0             |1.0                      |14.3            |2.5                     |0.0            |\n",
      "|1     |2           |2023-01-01 00:55:08     |2023-01-01 01:01:27      |1                  |1.1              |1               |N                       |43               |237              |1                |7.9            |1.0      |0.5        |4.0           |0.0             |1.0                      |16.9            |2.5                     |0.0            |\n",
      "|2     |2           |2023-01-01 00:25:04     |2023-01-01 00:37:49      |1                  |2.51             |1               |N                       |48               |238              |1                |14.9           |1.0      |0.5        |15.0          |0.0             |1.0                      |34.9            |2.5                     |0.0            |\n",
      "|3     |1           |2023-01-01 00:03:48     |2023-01-01 00:13:25      |0                  |1.9              |1               |N                       |138              |7                |1                |12.1           |7.25     |0.5        |0.0           |0.0             |1.0                      |20.85           |0.0                     |1.25           |\n",
      "|4     |2           |2023-01-01 00:10:29     |2023-01-01 00:21:19      |1                  |1.43             |1               |N                       |107              |79               |1                |11.4           |1.0      |0.5        |3.28          |0.0             |1.0                      |19.68           |2.5                     |0.0            |\n",
      "|5     |2           |2023-01-01 00:50:34     |2023-01-01 01:02:52      |1                  |1.84             |1               |N                       |161              |137              |1                |12.8           |1.0      |0.5        |10.0          |0.0             |1.0                      |27.8            |2.5                     |0.0            |\n",
      "|6     |2           |2023-01-01 00:09:22     |2023-01-01 00:19:49      |1                  |1.66             |1               |N                       |239              |143              |1                |12.1           |1.0      |0.5        |3.42          |0.0             |1.0                      |20.52           |2.5                     |0.0            |\n",
      "|7     |2           |2023-01-01 00:27:12     |2023-01-01 00:49:56      |1                  |11.7             |1               |N                       |142              |200              |1                |45.7           |1.0      |0.5        |10.74         |3.0             |1.0                      |64.44           |2.5                     |0.0            |\n",
      "|8     |2           |2023-01-01 00:21:44     |2023-01-01 00:36:40      |1                  |2.95             |1               |N                       |164              |236              |1                |17.7           |1.0      |0.5        |5.68          |0.0             |1.0                      |28.38           |2.5                     |0.0            |\n",
      "|9     |2           |2023-01-01 00:39:42     |2023-01-01 00:50:36      |1                  |3.01             |1               |N                       |141              |107              |2                |14.9           |1.0      |0.5        |0.0           |0.0             |1.0                      |19.9            |2.5                     |0.0            |\n",
      "------------------------------------------------------------------------------------------------------------------------------------------------------------------------------------------------------------------------------------------------------------------------------------------------------------------------------------------------------------------------\n",
      "\n"
     ]
    }
   ],
   "source": [
    "data.show()"
   ]
  },
  {
   "cell_type": "code",
   "execution_count": 106,
   "id": "eb58abfe",
   "metadata": {},
   "outputs": [],
   "source": [
    "PU_fact_time = session.sql('''\n",
    "select TimeID as PU_TimeID,* from\n",
    "uber_data_raw inner join\n",
    "time_dim\n",
    "on time_dim.time = time(uber_data_raw.tpep_pickup_datetime)\n",
    "''')"
   ]
  },
  {
   "cell_type": "code",
   "execution_count": 107,
   "id": "5b54347a",
   "metadata": {
    "scrolled": false
   },
   "outputs": [
    {
     "name": "stdout",
     "output_type": "stream",
     "text": [
      "----------------------------------------------------------------------------------------------------------------------------------------------------------------------------------------------------------------------------------------------------------------------------------------------------------------------------------------------------------------------------------------------------------------------------------------------\n",
      "|\"PU_TIMEID\"  |\"ID\"     |\"VENDORID\"  |\"TPEP_PICKUP_DATETIME\"  |\"TPEP_DROPOFF_DATETIME\"  |\"PASSENGER_COUNT\"  |\"TRIP_DISTANCE\"  |\"RATE_CODE_ID\"  |\"STORE_N_FORWARD_FLAG\"  |\"PU_LOCATIONID\"  |\"DO_LOCATIONID\"  |\"PAYMENTTYPEID\"  |\"FARE_AMOUNT\"  |\"EXTRA\"  |\"MTA_TAX\"  |\"TIP_AMOUNT\"  |\"TOLLS_AMOUNT\"  |\"IMPROVEMENT_SURCHARGE\"  |\"TOTAL_AMOUNT\"  |\"CONGESTION_SURCHARGE\"  |\"AIRPORT_FEE\"  |\"TIMEID\"  |\"TIME\"    |\"HOUR\"  |\"MINUTE\"  |\"SECOND\"  |\n",
      "----------------------------------------------------------------------------------------------------------------------------------------------------------------------------------------------------------------------------------------------------------------------------------------------------------------------------------------------------------------------------------------------------------------------------------------------\n",
      "|71627        |1769472  |2           |2023-01-19 19:15:06     |2023-01-19 19:28:39      |1                  |2.02             |1               |N                       |161              |239              |1                |14.2           |2.5      |0.5        |1.5           |0.0             |1.0                      |22.2            |2.5                     |0.0            |71627     |19:15:06  |19      |15        |6         |\n",
      "|59122        |1769473  |2           |2023-01-19 19:52:28     |2023-01-19 19:55:35      |2                  |0.55             |1               |N                       |239              |142              |1                |5.1            |2.5      |0.5        |1.0           |0.0             |1.0                      |12.6            |2.5                     |0.0            |59122     |19:52:28  |19      |52        |28        |\n",
      "|37239        |1769474  |1           |2023-01-19 19:02:13     |2023-01-19 19:21:46      |1                  |3.0              |1               |N                       |263              |230              |1                |19.1           |5.0      |0.5        |2.0           |0.0             |1.0                      |27.6            |2.5                     |0.0            |37239     |19:02:13  |19      |2         |13        |\n",
      "----------------------------------------------------------------------------------------------------------------------------------------------------------------------------------------------------------------------------------------------------------------------------------------------------------------------------------------------------------------------------------------------------------------------------------------------\n",
      "\n"
     ]
    }
   ],
   "source": [
    "PU_fact_time.show(3)"
   ]
  },
  {
   "cell_type": "code",
   "execution_count": 108,
   "id": "f006ef4c",
   "metadata": {},
   "outputs": [],
   "source": [
    "DO_fact_time = session.sql('''\n",
    "select TimeID as DO_TimeID,ID \n",
    "from\n",
    "uber_data_raw inner join\n",
    "time_dim\n",
    "on time_dim.time = time(uber_data_raw.tpep_dropoff_datetime)\n",
    "''')\n"
   ]
  },
  {
   "cell_type": "code",
   "execution_count": 255,
   "id": "6e69e870",
   "metadata": {
    "scrolled": true
   },
   "outputs": [
    {
     "name": "stdout",
     "output_type": "stream",
     "text": [
      "-------------------------\n",
      "|\"DO_TIMEID\"  |\"ID\"     |\n",
      "-------------------------\n",
      "|9175         |2654208  |\n",
      "|9079         |2654209  |\n",
      "|29986        |2654210  |\n",
      "-------------------------\n",
      "\n"
     ]
    }
   ],
   "source": [
    "DO_fact_time.show(3)"
   ]
  },
  {
   "cell_type": "code",
   "execution_count": 109,
   "id": "60a9a144",
   "metadata": {},
   "outputs": [],
   "source": [
    "factTime = PU_fact_time.natural_join(DO_fact_time)"
   ]
  },
  {
   "cell_type": "code",
   "execution_count": 110,
   "id": "b0847af7",
   "metadata": {
    "scrolled": true
   },
   "outputs": [
    {
     "name": "stdout",
     "output_type": "stream",
     "text": [
      "------------------------------------------------------------------------------------------------------------------------------------------------------------------------------------------------------------------------------------------------------------------------------------------------------------------------------------------------------------------------------------------------------------------------------------------------------------\n",
      "|\"ID\"     |\"PU_TIMEID\"  |\"VENDORID\"  |\"TPEP_PICKUP_DATETIME\"  |\"TPEP_DROPOFF_DATETIME\"  |\"PASSENGER_COUNT\"  |\"TRIP_DISTANCE\"  |\"RATE_CODE_ID\"  |\"STORE_N_FORWARD_FLAG\"  |\"PU_LOCATIONID\"  |\"DO_LOCATIONID\"  |\"PAYMENTTYPEID\"  |\"FARE_AMOUNT\"  |\"EXTRA\"  |\"MTA_TAX\"  |\"TIP_AMOUNT\"  |\"TOLLS_AMOUNT\"  |\"IMPROVEMENT_SURCHARGE\"  |\"TOTAL_AMOUNT\"  |\"CONGESTION_SURCHARGE\"  |\"AIRPORT_FEE\"  |\"TIMEID\"  |\"TIME\"    |\"HOUR\"  |\"MINUTE\"  |\"SECOND\"  |\"DO_TIMEID\"  |\n",
      "------------------------------------------------------------------------------------------------------------------------------------------------------------------------------------------------------------------------------------------------------------------------------------------------------------------------------------------------------------------------------------------------------------------------------------------------------------\n",
      "|2654208  |20190        |1           |2023-01-28 12:51:01     |2023-01-28 12:57:45      |0                  |0.9              |1               |N                       |79               |148              |1                |7.2            |2.5      |0.5        |3.35          |0.0             |1.0                      |14.55           |2.5                     |0.0            |20190     |12:51:01  |12      |51        |1         |21440        |\n",
      "|2654209  |20736        |1           |2023-01-28 12:59:13     |2023-01-28 13:14:04      |1                  |1.5              |1               |N                       |144              |114              |1                |10.7           |2.5      |0.5        |2.9           |0.0             |1.0                      |17.6            |2.5                     |0.0            |20736     |12:59:13  |12      |59        |13        |53876        |\n",
      "------------------------------------------------------------------------------------------------------------------------------------------------------------------------------------------------------------------------------------------------------------------------------------------------------------------------------------------------------------------------------------------------------------------------------------------------------------\n",
      "\n"
     ]
    }
   ],
   "source": [
    "factTime.show(2)"
   ]
  },
  {
   "cell_type": "code",
   "execution_count": 111,
   "id": "f35f26aa",
   "metadata": {},
   "outputs": [
    {
     "data": {
      "text/plain": [
       "3066766"
      ]
     },
     "execution_count": 111,
     "metadata": {},
     "output_type": "execute_result"
    }
   ],
   "source": [
    "PU_fact_time.count()"
   ]
  },
  {
   "cell_type": "code",
   "execution_count": 112,
   "id": "5c75831a",
   "metadata": {
    "scrolled": true
   },
   "outputs": [
    {
     "data": {
      "text/plain": [
       "3066766"
      ]
     },
     "execution_count": 112,
     "metadata": {},
     "output_type": "execute_result"
    }
   ],
   "source": [
    "factTime.count()"
   ]
  },
  {
   "cell_type": "code",
   "execution_count": 113,
   "id": "bc514a32",
   "metadata": {
    "scrolled": true
   },
   "outputs": [
    {
     "name": "stdout",
     "output_type": "stream",
     "text": [
      "-------------------------------------------------------------------------------------------------------------------------------------------------------------------------------------------------------------------------------------------------------------------------------------------------------------------------------------------------------------------------------------------------------\n",
      "|\"ID\"     |\"PU_TIMEID\"  |\"VENDORID\"  |\"TPEP_PICKUP_DATETIME\"  |\"TPEP_DROPOFF_DATETIME\"  |\"PASSENGER_COUNT\"  |\"TRIP_DISTANCE\"  |\"RATE_CODE_ID\"  |\"STORE_N_FORWARD_FLAG\"  |\"PU_LOCATIONID\"  |\"DO_LOCATIONID\"  |\"PAYMENTTYPEID\"  |\"FARE_AMOUNT\"  |\"EXTRA\"  |\"MTA_TAX\"  |\"TIP_AMOUNT\"  |\"TOLLS_AMOUNT\"  |\"IMPROVEMENT_SURCHARGE\"  |\"TOTAL_AMOUNT\"  |\"CONGESTION_SURCHARGE\"  |\"AIRPORT_FEE\"  |\"DO_TIMEID\"  |\n",
      "-------------------------------------------------------------------------------------------------------------------------------------------------------------------------------------------------------------------------------------------------------------------------------------------------------------------------------------------------------------------------------------------------------\n",
      "|2654208  |20190        |1           |2023-01-28 12:51:01     |2023-01-28 12:57:45      |0                  |0.9              |1               |N                       |79               |148              |1                |7.2            |2.5      |0.5        |3.35          |0.0             |1.0                      |14.55           |2.5                     |0.0            |21440        |\n",
      "|2654209  |20736        |1           |2023-01-28 12:59:13     |2023-01-28 13:14:04      |1                  |1.5              |1               |N                       |144              |114              |1                |10.7           |2.5      |0.5        |2.9           |0.0             |1.0                      |17.6            |2.5                     |0.0            |53876        |\n",
      "-------------------------------------------------------------------------------------------------------------------------------------------------------------------------------------------------------------------------------------------------------------------------------------------------------------------------------------------------------------------------------------------------------\n",
      "\n"
     ]
    }
   ],
   "source": [
    "factTime = factTime.drop([\"TimeID\",\"Time\",\"hour\",\"minute\",\"second\"])\n",
    "factTime.show(2)"
   ]
  },
  {
   "cell_type": "code",
   "execution_count": 115,
   "id": "c36e6232",
   "metadata": {},
   "outputs": [],
   "source": [
    "PU_fact_date = session.sql('''\n",
    "select DateID as PU_DateID,* from\n",
    "uber_data_raw inner join\n",
    "date_dim\n",
    "on date_dim.date = date(uber_data_raw.tpep_pickup_datetime)\n",
    "''')"
   ]
  },
  {
   "cell_type": "code",
   "execution_count": 264,
   "id": "4b9e6990",
   "metadata": {
    "scrolled": true
   },
   "outputs": [
    {
     "name": "stdout",
     "output_type": "stream",
     "text": [
      "--------------------------------------------------------------------------------------------------------------------------------------------------------------------------------------------------------------------------------------------------------------------------------------------------------------------------------------------------------------------------------------------------------------------------------------------\n",
      "|\"PU_DATEID\"  |\"ID\"     |\"VENDORID\"  |\"TPEP_PICKUP_DATETIME\"  |\"TPEP_DROPOFF_DATETIME\"  |\"PASSENGER_COUNT\"  |\"TRIP_DISTANCE\"  |\"RATE_CODE_ID\"  |\"STORE_N_FORWARD_FLAG\"  |\"PU_LOCATIONID\"  |\"DO_LOCATIONID\"  |\"PAYMENTTYPEID\"  |\"FARE_AMOUNT\"  |\"EXTRA\"  |\"MTA_TAX\"  |\"TIP_AMOUNT\"  |\"TOLLS_AMOUNT\"  |\"IMPROVEMENT_SURCHARGE\"  |\"TOTAL_AMOUNT\"  |\"CONGESTION_SURCHARGE\"  |\"AIRPORT_FEE\"  |\"DATEID\"  |\"DATE\"      |\"DAY\"  |\"MONTH\"  |\"YEAR\"  |\n",
      "--------------------------------------------------------------------------------------------------------------------------------------------------------------------------------------------------------------------------------------------------------------------------------------------------------------------------------------------------------------------------------------------------------------------------------------------\n",
      "|4            |2654208  |1           |2023-01-28 12:51:01     |2023-01-28 12:57:45      |0                  |0.9              |1               |N                       |79               |148              |1                |7.2            |2.5      |0.5        |3.35          |0.0             |1.0                      |14.55           |2.5                     |0.0            |4         |2023-01-28  |28     |Jan      |2023    |\n",
      "|4            |2654209  |1           |2023-01-28 12:59:13     |2023-01-28 13:14:04      |1                  |1.5              |1               |N                       |144              |114              |1                |10.7           |2.5      |0.5        |2.9           |0.0             |1.0                      |17.6            |2.5                     |0.0            |4         |2023-01-28  |28     |Jan      |2023    |\n",
      "|4            |2654210  |2           |2023-01-28 12:18:43     |2023-01-28 12:25:31      |6                  |1.36             |1               |N                       |142              |239              |2                |8.6            |0.0      |0.5        |0.0           |0.0             |1.0                      |12.6            |2.5                     |0.0            |4         |2023-01-28  |28     |Jan      |2023    |\n",
      "--------------------------------------------------------------------------------------------------------------------------------------------------------------------------------------------------------------------------------------------------------------------------------------------------------------------------------------------------------------------------------------------------------------------------------------------\n",
      "\n"
     ]
    }
   ],
   "source": [
    "PU_fact_date.show(3)"
   ]
  },
  {
   "cell_type": "code",
   "execution_count": 116,
   "id": "2ec28b28",
   "metadata": {
    "scrolled": true
   },
   "outputs": [
    {
     "name": "stdout",
     "output_type": "stream",
     "text": [
      "-------------------------\n",
      "|\"DO_DATEID\"  |\"ID\"     |\n",
      "-------------------------\n",
      "|15           |1769472  |\n",
      "|15           |1769473  |\n",
      "|15           |1769474  |\n",
      "-------------------------\n",
      "\n"
     ]
    }
   ],
   "source": [
    "DO_fact_date = session.sql('''\n",
    "select dateID as DO_dateID,ID \n",
    "from\n",
    "uber_data_raw inner join\n",
    "date_dim\n",
    "on date_dim.date = date(uber_data_raw.tpep_dropoff_datetime)\n",
    "''')\n",
    "DO_fact_date.show(3)"
   ]
  },
  {
   "cell_type": "code",
   "execution_count": 117,
   "id": "95a2bea6",
   "metadata": {},
   "outputs": [],
   "source": [
    "factdate= PU_fact_date.natural_join(DO_fact_date)"
   ]
  },
  {
   "cell_type": "code",
   "execution_count": 118,
   "id": "1bc22316",
   "metadata": {
    "scrolled": true
   },
   "outputs": [
    {
     "data": {
      "text/plain": [
       "3066766"
      ]
     },
     "execution_count": 118,
     "metadata": {},
     "output_type": "execute_result"
    }
   ],
   "source": [
    "factdate.count()"
   ]
  },
  {
   "cell_type": "code",
   "execution_count": 119,
   "id": "35d9320d",
   "metadata": {},
   "outputs": [],
   "source": [
    "fact = factdate.natural_join(factTime)"
   ]
  },
  {
   "cell_type": "code",
   "execution_count": 120,
   "id": "2aa32f80",
   "metadata": {},
   "outputs": [
    {
     "data": {
      "text/plain": [
       "2995023"
      ]
     },
     "execution_count": 120,
     "metadata": {},
     "output_type": "execute_result"
    }
   ],
   "source": [
    "fact.count()"
   ]
  },
  {
   "cell_type": "code",
   "execution_count": 331,
   "id": "848441c2",
   "metadata": {
    "scrolled": true
   },
   "outputs": [
    {
     "name": "stdout",
     "output_type": "stream",
     "text": [
      "--------------------------------------------------------------------------------------------------------------------------------------------------------------------------------------------------------------------------------------------------------------------------------------------------------------------------------------------------------------------------------------------------------------------------------------------------------------------------------------\n",
      "|\"ID\"     |\"VENDORID\"  |\"TPEP_PICKUP_DATETIME\"  |\"TPEP_DROPOFF_DATETIME\"  |\"PASSENGER_COUNT\"  |\"TRIP_DISTANCE\"  |\"RATE_CODE_ID\"  |\"STORE_N_FORWARD_FLAG\"  |\"PU_LOCATIONID\"  |\"DO_LOCATIONID\"  |\"PAYMENTTYPEID\"  |\"FARE_AMOUNT\"  |\"EXTRA\"  |\"MTA_TAX\"  |\"TIP_AMOUNT\"  |\"TOLLS_AMOUNT\"  |\"IMPROVEMENT_SURCHARGE\"  |\"TOTAL_AMOUNT\"  |\"CONGESTION_SURCHARGE\"  |\"AIRPORT_FEE\"  |\"PU_DATEID\"  |\"DATEID\"  |\"DATE\"      |\"DAY\"  |\"MONTH\"  |\"YEAR\"  |\"DO_DATEID\"  |\"PU_TIMEID\"  |\"DO_TIMEID\"  |\n",
      "--------------------------------------------------------------------------------------------------------------------------------------------------------------------------------------------------------------------------------------------------------------------------------------------------------------------------------------------------------------------------------------------------------------------------------------------------------------------------------------\n",
      "|2654208  |1           |2023-01-28 12:51:01     |2023-01-28 12:57:45      |0                  |0.9              |1               |N                       |79               |148              |1                |7.2            |2.5      |0.5        |3.35          |0.0             |1.0                      |14.55           |2.5                     |0.0            |4            |4         |2023-01-28  |28     |Jan      |2023    |4            |50187        |9175         |\n",
      "|2654209  |1           |2023-01-28 12:59:13     |2023-01-28 13:14:04      |1                  |1.5              |1               |N                       |144              |114              |1                |10.7           |2.5      |0.5        |2.9           |0.0             |1.0                      |17.6            |2.5                     |0.0            |4            |4         |2023-01-28  |28     |Jan      |2023    |4            |71915        |9079         |\n",
      "--------------------------------------------------------------------------------------------------------------------------------------------------------------------------------------------------------------------------------------------------------------------------------------------------------------------------------------------------------------------------------------------------------------------------------------------------------------------------------------\n",
      "\n"
     ]
    }
   ],
   "source": [
    "fact.show(2)"
   ]
  },
  {
   "cell_type": "code",
   "execution_count": 121,
   "id": "96f039f6",
   "metadata": {},
   "outputs": [],
   "source": [
    "fact = fact.drop([\"tpep_pickup_datetime\",\"tpep_dropoff_datetime\",\"dateId\",\"date\",\"day\",\"month\",\"year\"])"
   ]
  },
  {
   "cell_type": "code",
   "execution_count": 346,
   "id": "9066cdb0",
   "metadata": {
    "scrolled": false
   },
   "outputs": [],
   "source": [
    "fact.show(2)"
   ]
  },
  {
   "cell_type": "code",
   "execution_count": 122,
   "id": "57f0c97f",
   "metadata": {},
   "outputs": [],
   "source": [
    "strfwd = session.sql('''\n",
    "select * \n",
    "from\n",
    "store_n_forward_dim\n",
    "''')"
   ]
  },
  {
   "cell_type": "code",
   "execution_count": 125,
   "id": "a7770548",
   "metadata": {
    "scrolled": true
   },
   "outputs": [
    {
     "name": "stdout",
     "output_type": "stream",
     "text": [
      "--------------------------------------------------------------------\n",
      "|\"FLAGID\"  |\"STORE_N_FORWARD_FLAG\"  |\"DESCRIPTION\"                 |\n",
      "--------------------------------------------------------------------\n",
      "|1         |Y                       |store and forward trip        |\n",
      "|2         |N                       |not a store and forward trip  |\n",
      "--------------------------------------------------------------------\n",
      "\n"
     ]
    }
   ],
   "source": [
    "strfwd.show()"
   ]
  },
  {
   "cell_type": "code",
   "execution_count": 123,
   "id": "faa0a0ab",
   "metadata": {},
   "outputs": [],
   "source": [
    "fact = fact.natural_join(strfwd,how=\"left\")"
   ]
  },
  {
   "cell_type": "code",
   "execution_count": 124,
   "id": "ae75bde9",
   "metadata": {
    "scrolled": true
   },
   "outputs": [
    {
     "data": {
      "text/plain": [
       "2995023"
      ]
     },
     "execution_count": 124,
     "metadata": {},
     "output_type": "execute_result"
    }
   ],
   "source": [
    "fact.count()"
   ]
  },
  {
   "cell_type": "code",
   "execution_count": 338,
   "id": "43b40088",
   "metadata": {},
   "outputs": [],
   "source": [
    "fact.show(2)"
   ]
  },
  {
   "cell_type": "code",
   "execution_count": 126,
   "id": "299052fd",
   "metadata": {},
   "outputs": [],
   "source": [
    "fact = fact.drop(\"Store_n_forward_flag\")"
   ]
  },
  {
   "cell_type": "code",
   "execution_count": 127,
   "id": "569d04bf",
   "metadata": {},
   "outputs": [],
   "source": [
    "fact_attr = fact.select_expr(\"ID\",\n",
    "                        \"VendorID\",\n",
    "                        \"PU_dateID\",\n",
    "                        \"Do_dateID\",\n",
    "                        \"PU_timeID\",\n",
    "                        \"Do_timeID\",\n",
    "                        \"passenger_count\",\n",
    "                        \"trip_distance\",\n",
    "                        \"Rate_Code_ID\",\n",
    "                        \"FlagID\",\n",
    "                        \"pU_locationID\",\n",
    "                        \"do_locationID\",\n",
    "                        \"PaymenttypeID\",\n",
    "                        \"fare_amount\",\n",
    "                        \"extra\",\n",
    "                        \"mta_tax\",\n",
    "                        \"tip_amount\",\n",
    "                        \"tolls_amount\",\n",
    "                        \"improvement_surcharge\",\n",
    "                        \"total_amount\",\n",
    "                        \"congestion_surcharge\",\n",
    "                        \"airport_fee\"\n",
    ")"
   ]
  },
  {
   "cell_type": "code",
   "execution_count": 341,
   "id": "f5ca1da5",
   "metadata": {
    "scrolled": true
   },
   "outputs": [],
   "source": [
    "fact_attr.show(2)"
   ]
  },
  {
   "cell_type": "code",
   "execution_count": 131,
   "id": "95fe0029",
   "metadata": {},
   "outputs": [],
   "source": [
    "fact_attr.write.mode('overwrite').save_as_table('taxiTrip_fact')"
   ]
  },
  {
   "cell_type": "code",
   "execution_count": 132,
   "id": "62f13149",
   "metadata": {
    "scrolled": true
   },
   "outputs": [
    {
     "name": "stdout",
     "output_type": "stream",
     "text": [
      "------------------------------------------------------------------------------------------------------------------------------------------------------------------------------------------------------------------------------------------------------------------------------------------------------------------------------------------------------------------\n",
      "|\"ID\"     |\"VENDORID\"  |\"PU_DATEID\"  |\"DO_DATEID\"  |\"PU_TIMEID\"  |\"DO_TIMEID\"  |\"PASSENGER_COUNT\"  |\"TRIP_DISTANCE\"  |\"RATE_CODE_ID\"  |\"FLAGID\"  |\"PU_LOCATIONID\"  |\"DO_LOCATIONID\"  |\"PAYMENTTYPEID\"  |\"FARE_AMOUNT\"  |\"EXTRA\"  |\"MTA_TAX\"  |\"TIP_AMOUNT\"  |\"TOLLS_AMOUNT\"  |\"IMPROVEMENT_SURCHARGE\"  |\"TOTAL_AMOUNT\"  |\"CONGESTION_SURCHARGE\"  |\"AIRPORT_FEE\"  |\n",
      "------------------------------------------------------------------------------------------------------------------------------------------------------------------------------------------------------------------------------------------------------------------------------------------------------------------------------------------------------------------\n",
      "|2654208  |1           |26           |26           |20190        |21440        |0                  |0.9              |1               |2         |79               |148              |1                |7.2            |2.5      |0.5        |3.35          |0.0             |1.0                      |14.55           |2.5                     |0.0            |\n",
      "|2654209  |1           |26           |26           |20736        |53876        |1                  |1.5              |1               |2         |144              |114              |1                |10.7           |2.5      |0.5        |2.9           |0.0             |1.0                      |17.6            |2.5                     |0.0            |\n",
      "|2654210  |2           |26           |26           |22190        |21622        |6                  |1.36             |1               |2         |142              |239              |2                |8.6            |0.0      |0.5        |0.0           |0.0             |1.0                      |12.6            |2.5                     |0.0            |\n",
      "------------------------------------------------------------------------------------------------------------------------------------------------------------------------------------------------------------------------------------------------------------------------------------------------------------------------------------------------------------------\n",
      "\n"
     ]
    }
   ],
   "source": [
    "session.sql('''\n",
    "select * from taxiTrip_fact limit 3\n",
    "''').show()"
   ]
  },
  {
   "cell_type": "code",
   "execution_count": 133,
   "id": "60572060",
   "metadata": {},
   "outputs": [],
   "source": [
    "session.close()"
   ]
  }
 ],
 "metadata": {
  "kernelspec": {
   "display_name": "Python 3 (ipykernel)",
   "language": "python",
   "name": "python3"
  },
  "language_info": {
   "codemirror_mode": {
    "name": "ipython",
    "version": 3
   },
   "file_extension": ".py",
   "mimetype": "text/x-python",
   "name": "python",
   "nbconvert_exporter": "python",
   "pygments_lexer": "ipython3",
   "version": "3.8.16"
  }
 },
 "nbformat": 4,
 "nbformat_minor": 5
}
